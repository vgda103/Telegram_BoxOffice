{
 "cells": [
  {
   "cell_type": "code",
   "execution_count": 2,
   "metadata": {},
   "outputs": [
    {
     "name": "stdout",
     "output_type": "stream",
     "text": [
      "Note: you may need to restart the kernel to use updated packages.\n"
     ]
    },
    {
     "name": "stderr",
     "output_type": "stream",
     "text": [
      "ERROR: Could not find a version that satisfies the requirement python-telegram-bo (from versions: none)\n",
      "ERROR: No matching distribution found for python-telegram-bo\n"
     ]
    }
   ],
   "source": [
    "%pip install python-telegram-bo"
   ]
  },
  {
   "cell_type": "code",
   "execution_count": 1,
   "metadata": {},
   "outputs": [],
   "source": [
    "import sys\n",
    "\n",
    "# 커스텀 클레스 정의\n",
    "# 환경변수 등록\n",
    "sys.path.append( r'C:\\Users\\SDA12\\Desktop\\AiWork' )\n",
    "\n",
    "# 커스텀 모둘 업핸드\n",
    "from De_to_En.EntoDe_code import EntoDe_code"
   ]
  },
  {
   "cell_type": "code",
   "execution_count": null,
   "metadata": {},
   "outputs": [],
   "source": [
    "import telegram\n",
    "\n",
    "token = open( 'C:/Users/SDA12/Desktop/AiWork/De_to_En/Telegram_token.txt', 'r' ).read()\n",
    "\n",
    "# 메시지 '핸들러'\n",
    "from telegram import Update\n",
    "from telegram.ext import ApplicationBuilder, CommandHandler\n",
    "\n",
    "# 메시지 처리기 = 핸들러\n",
    "async def hello( update : Update, context ) -> None: # /hello 사용자 입력\n",
    "    await update.message.reply_text(\n",
    "        f'Hello { update.effective_user.first_name }' # Hello ~~ 해서 응답 변환\n",
    "    )\n",
    "    pass\n",
    "\n",
    "async def bye( update : Update, context ) -> None:\n",
    "    # 크롤링코드 실행\n",
    "    # 데이터를 받아서 문자열로 변환\n",
    "    print( update.message.text.split() )\n",
    "    await update.message.reply_text(\n",
    "        f'Bye { update.effective_user.first_name }'\n",
    "    )\n",
    "    pass\n",
    "\n",
    "import requests\n",
    "async def rabbit( update : Update, context ) -> None:\n",
    "    await update.message.reply_text( '토끼사진을 검색 합니다' )\n",
    "    rabbit_url = 'https://upload.wikimedia.org/wikipedia/commons/thumb/f/fa/Bunny_rabbit_at_Alligator_Bay%2C_Beauvoir%2C_France.jpg/220px-Bunny_rabbit_at_Alligator_Bay%2C_Beauvoir%2C_France.jpg'\n",
    "    r = requests.get( rabbit_url )\n",
    "    await update.message.reply_photo( r.content )\n",
    "    pass\n",
    "\n",
    "async def craw( update : Update, context ) -> None:\n",
    "    print( update.message.chat_id ) # 채팅방 ID\n",
    "    await update.message.reply_text( '' )\n",
    "    pass\n",
    "\n",
    "print( '--------------텔레그램 봇 실행-----------------' )\n",
    "app = ApplicationBuilder().token( token ).build()\n",
    "\n",
    "# 핸들러 등록\n",
    "app.add_handler( CommandHandler( \"hello\", hello ) ) # /hello\n",
    "app.add_handler( CommandHandler( \"bye\", bye ) ) # /bye\n",
    "app.add_handler( CommandHandler( \"craw\", craw ) )\n",
    "app.add_handler( CommandHandler( \"rabbit\", rabbit ) )\n",
    "\n",
    "app.run_polling()\n"
   ]
  },
  {
   "cell_type": "code",
   "execution_count": null,
   "metadata": {},
   "outputs": [],
   "source": []
  }
 ],
 "metadata": {
  "kernelspec": {
   "display_name": "base",
   "language": "python",
   "name": "python3"
  },
  "language_info": {
   "codemirror_mode": {
    "name": "ipython",
    "version": 3
   },
   "file_extension": ".py",
   "mimetype": "text/x-python",
   "name": "python",
   "nbconvert_exporter": "python",
   "pygments_lexer": "ipython3",
   "version": "3.10.13"
  }
 },
 "nbformat": 4,
 "nbformat_minor": 2
}
